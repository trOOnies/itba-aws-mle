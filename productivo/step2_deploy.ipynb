{
 "cells": [
  {
   "cell_type": "markdown",
   "id": "1afebb0c-968b-4864-8684-dd1db09d36f2",
   "metadata": {},
   "source": [
    "# Step 2 - Deploy del modelo"
   ]
  },
  {
   "cell_type": "markdown",
   "id": "36ad3d2a-b551-48f9-a02a-8571e5ade4a3",
   "metadata": {},
   "source": [
    "## Seteos iniciales"
   ]
  },
  {
   "cell_type": "markdown",
   "id": "d5b0bf9f-7eb4-499b-b873-ded96a12cf2d",
   "metadata": {},
   "source": [
    "Logueamos sólo los mensajes de warning y error"
   ]
  },
  {
   "cell_type": "code",
   "execution_count": 2,
   "id": "c4855513-5620-409c-8fb6-1123e27764f7",
   "metadata": {
    "tags": []
   },
   "outputs": [],
   "source": [
    "import logging\n",
    "\n",
    "logging.getLogger(\"sagemaker.config\").setLevel(logging.WARNING)\n",
    "logging.getLogger(\"sagemaker.experiments.run\").setLevel(logging.WARNING)"
   ]
  },
  {
   "cell_type": "markdown",
   "id": "0ed45af1-e289-4de5-b80e-a8d6bf10ac66",
   "metadata": {},
   "source": [
    "Mostramos las versiones de las librerías de Python importantes para el proyecto"
   ]
  },
  {
   "cell_type": "code",
   "execution_count": 3,
   "id": "747d3890-71a9-440d-8186-1523d330b960",
   "metadata": {
    "tags": []
   },
   "outputs": [
    {
     "name": "stdout",
     "output_type": "stream",
     "text": [
      "sagemaker\t 2.215.0\n",
      "pandas\t\t 2.2.2\n",
      "numpy\t\t 1.26.4\n",
      "boto3\t\t 1.34.84\n",
      "awscli\t\t 1.32.84\n"
     ]
    }
   ],
   "source": [
    "import awscli\n",
    "import boto3\n",
    "import numpy\n",
    "import pandas\n",
    "import sagemaker\n",
    "\n",
    "print(\"sagemaker\\t\", sagemaker.__version__)\n",
    "print(\"pandas\\t\\t\", pandas.__version__)\n",
    "print(\"numpy\\t\\t\", numpy.__version__)\n",
    "print(\"boto3\\t\\t\", boto3.__version__)\n",
    "print(\"awscli\\t\\t\", awscli.__version__)"
   ]
  },
  {
   "cell_type": "code",
   "execution_count": 4,
   "id": "f1819196-152a-4a6a-bd88-d2c93f496f08",
   "metadata": {
    "tags": []
   },
   "outputs": [
    {
     "name": "stdout",
     "output_type": "stream",
     "text": [
      "Region: us-east-1\n",
      "Rol: arn:aws:iam::335415446667:role/service-role/AmazonSageMakerExecutionRole-sagemaker-stack\n",
      "Info S3:\n",
      "- Bucket: sagemaker-us-east-1-335415446667\n",
      "- Prefix: australia-rain\n"
     ]
    }
   ],
   "source": [
    "role = sagemaker.get_execution_role()\n",
    "region = boto3.Session().region_name\n",
    "\n",
    "sage_session = sagemaker.Session()\n",
    "bucket_name = sage_session.default_bucket()\n",
    "prefix = \"australia-rain\"\n",
    "project_fd = f\"s3://{bucket_name}/{prefix}\"\n",
    "\n",
    "print(\"Region:\", region)\n",
    "print(\"Rol:\", role)\n",
    "print(\"Info S3:\")\n",
    "print(f\"- Bucket: {bucket_name}\")\n",
    "print(f\"- Prefix: {prefix}\")"
   ]
  },
  {
   "cell_type": "markdown",
   "id": "3ef99e4a-7879-4c0b-86cb-0369e529d335",
   "metadata": {},
   "source": [
    "## Modelo"
   ]
  },
  {
   "cell_type": "code",
   "execution_count": 51,
   "id": "dd19f34b-625a-4e96-a1c1-c58ffebb3e47",
   "metadata": {
    "tags": []
   },
   "outputs": [],
   "source": [
    "import boto3\n",
    "\n",
    "def get_latest_training_job_name(base_job_name: str) -> str:\n",
    "    client = boto3.client(\"sagemaker\")\n",
    "    response = client.list_training_jobs(\n",
    "        NameContains=base_job_name,\n",
    "        SortBy=\"CreationTime\", \n",
    "        SortOrder=\"Descending\",\n",
    "        StatusEquals=\"Completed\",\n",
    "    )\n",
    "    if response[\"TrainingJobSummaries\"]:\n",
    "        return response[\"TrainingJobSummaries\"][0][\"TrainingJobName\"]\n",
    "    else:\n",
    "        raise Exception(\"Training job not found.\")\n",
    "\n",
    "def get_training_job_s3_model_artifacts(job_name: str):\n",
    "    client = boto3.client(\"sagemaker\")\n",
    "    response = client.describe_training_job(TrainingJobName=job_name)\n",
    "    s3_model_artifacts = response[\"ModelArtifacts\"][\"S3ModelArtifacts\"]\n",
    "    return s3_model_artifacts"
   ]
  },
  {
   "cell_type": "code",
   "execution_count": 52,
   "id": "dcf588b1-1aa7-4715-a482-7d2c0d437d7c",
   "metadata": {
    "tags": []
   },
   "outputs": [
    {
     "name": "stdout",
     "output_type": "stream",
     "text": [
      "Model path: s3://sagemaker-us-east-1-335415446667/australia-rain-processed/output/sagemaker-xgboost-241118-2043-016-64d25362/output/model.tar.gz\n"
     ]
    }
   ],
   "source": [
    "train_base_job_name   = \"sagemaker-xgboost-241118-2043-016-64d25362\"  # best model of the HPO\n",
    "\n",
    "latest_train_job_name = get_latest_training_job_name(train_base_job_name)\n",
    "model_path            = get_training_job_s3_model_artifacts(latest_train_job_name)\n",
    "\n",
    "print(f\"Model path: {model_path}\")"
   ]
  },
  {
   "cell_type": "code",
   "execution_count": 53,
   "id": "a2600675-e917-4a54-9680-2f826b0b988c",
   "metadata": {
    "tags": []
   },
   "outputs": [],
   "source": [
    "import time\n",
    "from sagemaker.xgboost import XGBoostModel\n",
    "\n",
    "code_location = f\"{project_fd}/code\"\n",
    "xgboost_model = XGBoostModel(\n",
    "    name=f\"{train_base_job_name}-model-{int(time.time())}\",\n",
    "    model_data=model_path,\n",
    "    entry_point=\"inference.py\",\n",
    "    source_dir=\"scripts/inference/\",\n",
    "    code_location=code_location,\n",
    "    framework_version=\"0.90-2\",\n",
    "    py_version=\"py3\",\n",
    "    role=role, \n",
    "    sagemaker_session=sage_session,\n",
    ")"
   ]
  },
  {
   "cell_type": "markdown",
   "id": "fe4868cb",
   "metadata": {},
   "source": [
    "## Deploy del modelo"
   ]
  },
  {
   "cell_type": "code",
   "execution_count": 54,
   "id": "58ecb22c-c1a0-4921-a08f-0c300d634177",
   "metadata": {
    "tags": []
   },
   "outputs": [
    {
     "name": "stdout",
     "output_type": "stream",
     "text": [
      "The endpoint will upload captured data to s3://sagemaker-us-east-1-335415446667/australia-rain/monitoring/datacapture\n",
      "\n",
      "*** Endpoint Name ***\n",
      "\n",
      "australia-rain-sm-endpoint-1731966974\n"
     ]
    }
   ],
   "source": [
    "import time\n",
    "\n",
    "from sagemaker.model_monitor import DataCaptureConfig\n",
    "\n",
    "s3_capture_upload_path = f\"{project_fd}/monitoring/datacapture\"\n",
    "print(f\"The endpoint will upload captured data to {s3_capture_upload_path}\")\n",
    "\n",
    "endpoint_name = f\"{prefix}-sm-endpoint-{int(time.time())}\"\n",
    "\n",
    "print(f\"\\n*** Endpoint Name ***\\n\\n{endpoint_name}\")\n",
    "\n",
    "tried_deploying = False"
   ]
  },
  {
   "cell_type": "code",
   "execution_count": 55,
   "id": "dc64cfeb",
   "metadata": {
    "tags": []
   },
   "outputs": [
    {
     "name": "stdout",
     "output_type": "stream",
     "text": [
      "------!"
     ]
    },
    {
     "data": {
      "text/plain": [
       "<sagemaker.xgboost.model.XGBoostPredictor at 0x7f13b8540460>"
      ]
     },
     "execution_count": 55,
     "metadata": {},
     "output_type": "execute_result"
    }
   ],
   "source": [
    "assert not tried_deploying, \"Se debe volver a crear el endpoint_name antes de intentar deployar de nuevo\"\n",
    "tried_deploying = True\n",
    "\n",
    "xgboost_model.deploy(\n",
    "    initial_instance_count=1, \n",
    "    instance_type=\"ml.m5.xlarge\", \n",
    "    endpoint_name=endpoint_name,\n",
    "    data_capture_config=DataCaptureConfig(\n",
    "        enable_capture=True,\n",
    "        sampling_percentage=100,\n",
    "        destination_s3_uri=s3_capture_upload_path,\n",
    "    ),\n",
    ")"
   ]
  },
  {
   "cell_type": "code",
   "execution_count": 56,
   "id": "a5feeb49-2d7c-43eb-b565-47daa6399fcd",
   "metadata": {
    "tags": []
   },
   "outputs": [],
   "source": [
    "# # ! USAR ESTE CODIGO SOLO SI HUBO UN PROBLEMA CON EL DEPLOY (descomentarlo primero)\n",
    "# import boto3\n",
    "# sagemaker = boto3.client(\"sagemaker\")\n",
    "# sagemaker.delete_endpoint(EndpointName=endpoint_name)"
   ]
  },
  {
   "cell_type": "markdown",
   "id": "15597d77",
   "metadata": {},
   "source": [
    "## Inferencia"
   ]
  },
  {
   "cell_type": "code",
   "execution_count": 57,
   "id": "82afa219",
   "metadata": {
    "tags": []
   },
   "outputs": [],
   "source": [
    "from sagemaker.deserializers import CSVDeserializer\n",
    "from sagemaker.predictor import Predictor\n",
    "from sagemaker.serializers import CSVSerializer\n",
    "\n",
    "predictor = Predictor(\n",
    "    endpoint_name=endpoint_name,\n",
    "    sagemaker_session=sage_session,\n",
    "    serializer=CSVSerializer(),\n",
    "    deserializer=CSVDeserializer(),\n",
    ")"
   ]
  },
  {
   "cell_type": "code",
   "execution_count": 64,
   "id": "21cb74ad-49df-46ae-b6a6-c26ea39b2681",
   "metadata": {
    "tags": []
   },
   "outputs": [
    {
     "data": {
      "text/html": [
       "<div>\n",
       "<style scoped>\n",
       "    .dataframe tbody tr th:only-of-type {\n",
       "        vertical-align: middle;\n",
       "    }\n",
       "\n",
       "    .dataframe tbody tr th {\n",
       "        vertical-align: top;\n",
       "    }\n",
       "\n",
       "    .dataframe thead th {\n",
       "        text-align: right;\n",
       "    }\n",
       "</style>\n",
       "<table border=\"1\" class=\"dataframe\">\n",
       "  <thead>\n",
       "    <tr style=\"text-align: right;\">\n",
       "      <th></th>\n",
       "      <th>RainTomorrow</th>\n",
       "      <th>MinTemp</th>\n",
       "      <th>MaxTemp</th>\n",
       "      <th>Rainfall</th>\n",
       "      <th>WindGustDir_north</th>\n",
       "      <th>WindGustDir_east</th>\n",
       "      <th>WindGustSpeed</th>\n",
       "      <th>WindDir9am_north</th>\n",
       "      <th>WindDir9am_east</th>\n",
       "      <th>WindDir3pm_north</th>\n",
       "      <th>WindDir3pm_east</th>\n",
       "      <th>WindSpeed9am</th>\n",
       "      <th>WindSpeed3pm</th>\n",
       "      <th>Humidity9am</th>\n",
       "      <th>Humidity3pm</th>\n",
       "      <th>Pressure9am</th>\n",
       "      <th>Pressure3pm</th>\n",
       "      <th>Temp9am</th>\n",
       "      <th>Temp3pm</th>\n",
       "      <th>RainToday</th>\n",
       "    </tr>\n",
       "  </thead>\n",
       "  <tbody>\n",
       "    <tr>\n",
       "      <th>0</th>\n",
       "      <td>0.0</td>\n",
       "      <td>-1.575823</td>\n",
       "      <td>-0.912322</td>\n",
       "      <td>-0.447464</td>\n",
       "      <td>0.622214</td>\n",
       "      <td>-1.306855</td>\n",
       "      <td>-1.089222</td>\n",
       "      <td>0.543832</td>\n",
       "      <td>-1.405455</td>\n",
       "      <td>0.083000</td>\n",
       "      <td>-1.376365</td>\n",
       "      <td>0.136098</td>\n",
       "      <td>-0.415678</td>\n",
       "      <td>0.705367</td>\n",
       "      <td>-0.151323</td>\n",
       "      <td>-5.492681e-13</td>\n",
       "      <td>-4.509145e-13</td>\n",
       "      <td>-1.348866</td>\n",
       "      <td>-0.789395</td>\n",
       "      <td>-0.537545</td>\n",
       "    </tr>\n",
       "    <tr>\n",
       "      <th>1</th>\n",
       "      <td>0.0</td>\n",
       "      <td>1.275882</td>\n",
       "      <td>1.985564</td>\n",
       "      <td>-0.447464</td>\n",
       "      <td>-0.489264</td>\n",
       "      <td>1.367870</td>\n",
       "      <td>0.122041</td>\n",
       "      <td>-0.549593</td>\n",
       "      <td>1.345424</td>\n",
       "      <td>-1.240775</td>\n",
       "      <td>0.575429</td>\n",
       "      <td>0.136098</td>\n",
       "      <td>-0.660744</td>\n",
       "      <td>-1.125007</td>\n",
       "      <td>-1.296875</td>\n",
       "      <td>-4.515951e-01</td>\n",
       "      <td>-5.822026e-01</td>\n",
       "      <td>1.128619</td>\n",
       "      <td>2.129049</td>\n",
       "      <td>-0.537545</td>\n",
       "    </tr>\n",
       "    <tr>\n",
       "      <th>2</th>\n",
       "      <td>1.0</td>\n",
       "      <td>-0.672004</td>\n",
       "      <td>-1.750436</td>\n",
       "      <td>3.147074</td>\n",
       "      <td>-1.275198</td>\n",
       "      <td>0.584461</td>\n",
       "      <td>1.414056</td>\n",
       "      <td>-1.322761</td>\n",
       "      <td>0.539710</td>\n",
       "      <td>-1.240775</td>\n",
       "      <td>0.575429</td>\n",
       "      <td>1.464127</td>\n",
       "      <td>1.544853</td>\n",
       "      <td>0.436194</td>\n",
       "      <td>1.089691</td>\n",
       "      <td>1.017893e+00</td>\n",
       "      <td>1.008099e+00</td>\n",
       "      <td>-1.178539</td>\n",
       "      <td>-1.737889</td>\n",
       "      <td>1.860173</td>\n",
       "    </tr>\n",
       "    <tr>\n",
       "      <th>3</th>\n",
       "      <td>0.0</td>\n",
       "      <td>-0.407091</td>\n",
       "      <td>-1.025965</td>\n",
       "      <td>-0.447464</td>\n",
       "      <td>-0.960397</td>\n",
       "      <td>-0.993066</td>\n",
       "      <td>-0.200962</td>\n",
       "      <td>-1.322761</td>\n",
       "      <td>-0.599741</td>\n",
       "      <td>-1.349844</td>\n",
       "      <td>0.035234</td>\n",
       "      <td>0.619018</td>\n",
       "      <td>-0.170611</td>\n",
       "      <td>-0.748165</td>\n",
       "      <td>-0.055861</td>\n",
       "      <td>1.221585e+00</td>\n",
       "      <td>1.387437e+00</td>\n",
       "      <td>-0.652073</td>\n",
       "      <td>-1.125016</td>\n",
       "      <td>-0.537545</td>\n",
       "    </tr>\n",
       "    <tr>\n",
       "      <th>4</th>\n",
       "      <td>0.0</td>\n",
       "      <td>-0.485007</td>\n",
       "      <td>-0.869706</td>\n",
       "      <td>-0.447464</td>\n",
       "      <td>-0.489264</td>\n",
       "      <td>-1.306855</td>\n",
       "      <td>1.333305</td>\n",
       "      <td>1.007312</td>\n",
       "      <td>-1.082731</td>\n",
       "      <td>0.083000</td>\n",
       "      <td>-1.376365</td>\n",
       "      <td>0.377558</td>\n",
       "      <td>1.544853</td>\n",
       "      <td>-0.371323</td>\n",
       "      <td>-1.153681</td>\n",
       "      <td>-2.479037e-01</td>\n",
       "      <td>-2.904041e-01</td>\n",
       "      <td>-0.899822</td>\n",
       "      <td>-0.745618</td>\n",
       "      <td>-0.537545</td>\n",
       "    </tr>\n",
       "    <tr>\n",
       "      <th>...</th>\n",
       "      <td>...</td>\n",
       "      <td>...</td>\n",
       "      <td>...</td>\n",
       "      <td>...</td>\n",
       "      <td>...</td>\n",
       "      <td>...</td>\n",
       "      <td>...</td>\n",
       "      <td>...</td>\n",
       "      <td>...</td>\n",
       "      <td>...</td>\n",
       "      <td>...</td>\n",
       "      <td>...</td>\n",
       "      <td>...</td>\n",
       "      <td>...</td>\n",
       "      <td>...</td>\n",
       "      <td>...</td>\n",
       "      <td>...</td>\n",
       "      <td>...</td>\n",
       "      <td>...</td>\n",
       "      <td>...</td>\n",
       "    </tr>\n",
       "    <tr>\n",
       "      <th>13546</th>\n",
       "      <td>0.0</td>\n",
       "      <td>-0.313593</td>\n",
       "      <td>0.920164</td>\n",
       "      <td>-0.447464</td>\n",
       "      <td>0.622214</td>\n",
       "      <td>1.367870</td>\n",
       "      <td>-0.523966</td>\n",
       "      <td>-0.549593</td>\n",
       "      <td>-1.405455</td>\n",
       "      <td>1.096173</td>\n",
       "      <td>-0.962917</td>\n",
       "      <td>-1.191930</td>\n",
       "      <td>-0.660744</td>\n",
       "      <td>-0.317489</td>\n",
       "      <td>-1.201412</td>\n",
       "      <td>3.486213e-01</td>\n",
       "      <td>1.035239e-01</td>\n",
       "      <td>-0.388840</td>\n",
       "      <td>0.742788</td>\n",
       "      <td>-0.537545</td>\n",
       "    </tr>\n",
       "    <tr>\n",
       "      <th>13547</th>\n",
       "      <td>0.0</td>\n",
       "      <td>-0.921333</td>\n",
       "      <td>-1.466330</td>\n",
       "      <td>3.329847</td>\n",
       "      <td>-1.275198</td>\n",
       "      <td>-0.523446</td>\n",
       "      <td>1.575558</td>\n",
       "      <td>-1.431508</td>\n",
       "      <td>-0.030015</td>\n",
       "      <td>-1.349844</td>\n",
       "      <td>0.035234</td>\n",
       "      <td>0.377558</td>\n",
       "      <td>-0.415678</td>\n",
       "      <td>0.328525</td>\n",
       "      <td>0.946497</td>\n",
       "      <td>5.377633e-01</td>\n",
       "      <td>1.124819e+00</td>\n",
       "      <td>-1.039180</td>\n",
       "      <td>-1.621151</td>\n",
       "      <td>1.860173</td>\n",
       "    </tr>\n",
       "    <tr>\n",
       "      <th>13548</th>\n",
       "      <td>0.0</td>\n",
       "      <td>0.917471</td>\n",
       "      <td>0.962780</td>\n",
       "      <td>0.100855</td>\n",
       "      <td>1.093347</td>\n",
       "      <td>1.054081</td>\n",
       "      <td>-0.927720</td>\n",
       "      <td>1.425747</td>\n",
       "      <td>-0.030015</td>\n",
       "      <td>0.631325</td>\n",
       "      <td>1.339381</td>\n",
       "      <td>-0.588281</td>\n",
       "      <td>-0.660744</td>\n",
       "      <td>0.759201</td>\n",
       "      <td>-0.199055</td>\n",
       "      <td>5.377633e-01</td>\n",
       "      <td>2.348333e-01</td>\n",
       "      <td>0.462795</td>\n",
       "      <td>1.034633</td>\n",
       "      <td>1.860173</td>\n",
       "    </tr>\n",
       "    <tr>\n",
       "      <th>13549</th>\n",
       "      <td>0.0</td>\n",
       "      <td>-0.407091</td>\n",
       "      <td>1.374735</td>\n",
       "      <td>-0.447464</td>\n",
       "      <td>1.093347</td>\n",
       "      <td>-0.993066</td>\n",
       "      <td>0.525796</td>\n",
       "      <td>-0.002880</td>\n",
       "      <td>1.458749</td>\n",
       "      <td>1.515844</td>\n",
       "      <td>0.035234</td>\n",
       "      <td>-1.433390</td>\n",
       "      <td>0.196988</td>\n",
       "      <td>0.813036</td>\n",
       "      <td>-1.296875</td>\n",
       "      <td>-6.989347e-01</td>\n",
       "      <td>-1.194979e+00</td>\n",
       "      <td>-0.203029</td>\n",
       "      <td>1.384846</td>\n",
       "      <td>-0.537545</td>\n",
       "    </tr>\n",
       "    <tr>\n",
       "      <th>13550</th>\n",
       "      <td>0.0</td>\n",
       "      <td>-1.014832</td>\n",
       "      <td>-1.679410</td>\n",
       "      <td>1.014721</td>\n",
       "      <td>0.066475</td>\n",
       "      <td>-1.417044</td>\n",
       "      <td>-1.654478</td>\n",
       "      <td>1.007312</td>\n",
       "      <td>-1.082731</td>\n",
       "      <td>-1.349844</td>\n",
       "      <td>0.035234</td>\n",
       "      <td>-1.191930</td>\n",
       "      <td>-1.395943</td>\n",
       "      <td>1.028374</td>\n",
       "      <td>0.803303</td>\n",
       "      <td>1.134288e+00</td>\n",
       "      <td>1.124819e+00</td>\n",
       "      <td>-1.565646</td>\n",
       "      <td>-1.533598</td>\n",
       "      <td>1.860173</td>\n",
       "    </tr>\n",
       "  </tbody>\n",
       "</table>\n",
       "<p>13551 rows × 20 columns</p>\n",
       "</div>"
      ],
      "text/plain": [
       "       RainTomorrow   MinTemp   MaxTemp  Rainfall  WindGustDir_north  \\\n",
       "0               0.0 -1.575823 -0.912322 -0.447464           0.622214   \n",
       "1               0.0  1.275882  1.985564 -0.447464          -0.489264   \n",
       "2               1.0 -0.672004 -1.750436  3.147074          -1.275198   \n",
       "3               0.0 -0.407091 -1.025965 -0.447464          -0.960397   \n",
       "4               0.0 -0.485007 -0.869706 -0.447464          -0.489264   \n",
       "...             ...       ...       ...       ...                ...   \n",
       "13546           0.0 -0.313593  0.920164 -0.447464           0.622214   \n",
       "13547           0.0 -0.921333 -1.466330  3.329847          -1.275198   \n",
       "13548           0.0  0.917471  0.962780  0.100855           1.093347   \n",
       "13549           0.0 -0.407091  1.374735 -0.447464           1.093347   \n",
       "13550           0.0 -1.014832 -1.679410  1.014721           0.066475   \n",
       "\n",
       "       WindGustDir_east  WindGustSpeed  WindDir9am_north  WindDir9am_east  \\\n",
       "0             -1.306855      -1.089222          0.543832        -1.405455   \n",
       "1              1.367870       0.122041         -0.549593         1.345424   \n",
       "2              0.584461       1.414056         -1.322761         0.539710   \n",
       "3             -0.993066      -0.200962         -1.322761        -0.599741   \n",
       "4             -1.306855       1.333305          1.007312        -1.082731   \n",
       "...                 ...            ...               ...              ...   \n",
       "13546          1.367870      -0.523966         -0.549593        -1.405455   \n",
       "13547         -0.523446       1.575558         -1.431508        -0.030015   \n",
       "13548          1.054081      -0.927720          1.425747        -0.030015   \n",
       "13549         -0.993066       0.525796         -0.002880         1.458749   \n",
       "13550         -1.417044      -1.654478          1.007312        -1.082731   \n",
       "\n",
       "       WindDir3pm_north  WindDir3pm_east  WindSpeed9am  WindSpeed3pm  \\\n",
       "0              0.083000        -1.376365      0.136098     -0.415678   \n",
       "1             -1.240775         0.575429      0.136098     -0.660744   \n",
       "2             -1.240775         0.575429      1.464127      1.544853   \n",
       "3             -1.349844         0.035234      0.619018     -0.170611   \n",
       "4              0.083000        -1.376365      0.377558      1.544853   \n",
       "...                 ...              ...           ...           ...   \n",
       "13546          1.096173        -0.962917     -1.191930     -0.660744   \n",
       "13547         -1.349844         0.035234      0.377558     -0.415678   \n",
       "13548          0.631325         1.339381     -0.588281     -0.660744   \n",
       "13549          1.515844         0.035234     -1.433390      0.196988   \n",
       "13550         -1.349844         0.035234     -1.191930     -1.395943   \n",
       "\n",
       "       Humidity9am  Humidity3pm   Pressure9am   Pressure3pm   Temp9am  \\\n",
       "0         0.705367    -0.151323 -5.492681e-13 -4.509145e-13 -1.348866   \n",
       "1        -1.125007    -1.296875 -4.515951e-01 -5.822026e-01  1.128619   \n",
       "2         0.436194     1.089691  1.017893e+00  1.008099e+00 -1.178539   \n",
       "3        -0.748165    -0.055861  1.221585e+00  1.387437e+00 -0.652073   \n",
       "4        -0.371323    -1.153681 -2.479037e-01 -2.904041e-01 -0.899822   \n",
       "...            ...          ...           ...           ...       ...   \n",
       "13546    -0.317489    -1.201412  3.486213e-01  1.035239e-01 -0.388840   \n",
       "13547     0.328525     0.946497  5.377633e-01  1.124819e+00 -1.039180   \n",
       "13548     0.759201    -0.199055  5.377633e-01  2.348333e-01  0.462795   \n",
       "13549     0.813036    -1.296875 -6.989347e-01 -1.194979e+00 -0.203029   \n",
       "13550     1.028374     0.803303  1.134288e+00  1.124819e+00 -1.565646   \n",
       "\n",
       "        Temp3pm  RainToday  \n",
       "0     -0.789395  -0.537545  \n",
       "1      2.129049  -0.537545  \n",
       "2     -1.737889   1.860173  \n",
       "3     -1.125016  -0.537545  \n",
       "4     -0.745618  -0.537545  \n",
       "...         ...        ...  \n",
       "13546  0.742788  -0.537545  \n",
       "13547 -1.621151   1.860173  \n",
       "13548  1.034633   1.860173  \n",
       "13549  1.384846  -0.537545  \n",
       "13550 -1.533598   1.860173  \n",
       "\n",
       "[13551 rows x 20 columns]"
      ]
     },
     "execution_count": 64,
     "metadata": {},
     "output_type": "execute_result"
    }
   ],
   "source": [
    "df_val = pandas.read_csv(\"australia-rain-val-dbjob_18Nov2024_1731954770752_part00000.csv\")\n",
    "mask_rain = df_val.RainTomorrow > 0.5\n",
    "df_val"
   ]
  },
  {
   "cell_type": "code",
   "execution_count": 70,
   "id": "3257059b-1bb7-4dc3-9904-42c5078e7355",
   "metadata": {
    "tags": []
   },
   "outputs": [
    {
     "name": "stdout",
     "output_type": "stream",
     "text": [
      "RAIN TOMORROW\n",
      "[rid=2]\tPrediction: [['no']]\n",
      "[rid=12]\tPrediction: [['yes']]\n",
      "[rid=13]\tPrediction: [['no']]\n",
      "[rid=14]\tPrediction: [['yes']]\n",
      "[rid=16]\tPrediction: [['no']]\n",
      "[rid=17]\tPrediction: [['yes']]\n",
      "[rid=22]\tPrediction: [['yes']]\n",
      "[rid=26]\tPrediction: [['no']]\n",
      "[rid=31]\tPrediction: [['yes']]\n",
      "[rid=34]\tPrediction: [['no']]\n",
      "\n",
      "\n",
      "NO RAIN TOMORROW\n",
      "[rid=0]\tPrediction: [['no']]\n",
      "[rid=1]\tPrediction: [['no']]\n",
      "[rid=3]\tPrediction: [['no']]\n",
      "[rid=4]\tPrediction: [['no']]\n",
      "[rid=5]\tPrediction: [['no']]\n",
      "[rid=6]\tPrediction: [['no']]\n",
      "[rid=7]\tPrediction: [['no']]\n",
      "[rid=8]\tPrediction: [['no']]\n",
      "[rid=9]\tPrediction: [['no']]\n",
      "[rid=10]\tPrediction: [['no']]\n"
     ]
    }
   ],
   "source": [
    "print(\"RAIN TOMORROW\")\n",
    "for rid, row in df_val[mask_rain].iloc[:10].iterrows():\n",
    "    payload = \",\".join([str(v) for v in row])\n",
    "    print(f\"[rid={rid}]\\tPrediction:\", predictor.predict(payload))\n",
    "print()\n",
    "print()\n",
    "\n",
    "print(\"NO RAIN TOMORROW\")\n",
    "for rid, row in df_val[~mask_rain].iloc[:10].iterrows():\n",
    "    payload = \",\".join([str(v) for v in row])\n",
    "    print(f\"[rid={rid}]\\tPrediction:\", predictor.predict(payload))"
   ]
  },
  {
   "cell_type": "markdown",
   "id": "7514a188",
   "metadata": {},
   "source": [
    "### Data capturada"
   ]
  },
  {
   "cell_type": "markdown",
   "id": "fe4b7a5f-369c-4d2e-a77b-f98edd4ff80e",
   "metadata": {},
   "source": [
    "Dejamos un delay de 2 minutos para que S3 pueda recibir la data"
   ]
  },
  {
   "cell_type": "code",
   "execution_count": 71,
   "id": "5ba743c1",
   "metadata": {
    "tags": []
   },
   "outputs": [
    {
     "name": "stdout",
     "output_type": "stream",
     "text": [
      "0 segundos...\n",
      "10 segundos...\n",
      "20 segundos...\n",
      "30 segundos...\n",
      "40 segundos...\n",
      "50 segundos...\n",
      "60 segundos...\n",
      "70 segundos...\n",
      "80 segundos...\n",
      "90 segundos...\n",
      "100 segundos...\n",
      "110 segundos...\n",
      "LISTO\n"
     ]
    }
   ],
   "source": [
    "import time\n",
    "for i in range(12):\n",
    "    print(f\"{i * 10} segundos...\")\n",
    "    time.sleep(10) \n",
    "print(\"LISTO\")"
   ]
  },
  {
   "cell_type": "code",
   "execution_count": 78,
   "id": "c1aad0c8",
   "metadata": {
    "tags": []
   },
   "outputs": [
    {
     "name": "stdout",
     "output_type": "stream",
     "text": [
      "Capture Files: \n",
      "s3://sagemaker-us-east-1-335415446667/australia-rain/monitoring/datacapture/australia-rain-sm-endpoint-1731966974/AllTraffic/2024/11/18/22/00-45-707-5df1f258-11a1-42fd-b020-52abc68682e3.jsonl\n",
      "s3://sagemaker-us-east-1-335415446667/australia-rain/monitoring/datacapture/australia-rain-sm-endpoint-1731966974/AllTraffic/2024/11/18/22/03-53-940-1bf54dc0-f23b-4ed0-b6f2-c1df76e1dede.jsonl\n",
      "s3://sagemaker-us-east-1-335415446667/australia-rain/monitoring/datacapture/australia-rain-sm-endpoint-1731966974/AllTraffic/2024/11/18/22/05-07-314-539934b6-f1e9-436c-982e-ea0aabf7d748.jsonl\n"
     ]
    }
   ],
   "source": [
    "s3_client = boto3.Session().client(\"s3\")\n",
    "current_endpoint_capture_prefix = f\"{prefix}/monitoring/datacapture/{endpoint_name}\"\n",
    "\n",
    "result = s3_client.list_objects(Bucket=bucket_name, Prefix=current_endpoint_capture_prefix)\n",
    "capture_files = [\n",
    "    f\"s3://{bucket_name}/{capture_file.get('Key')}\"\n",
    "    for capture_file in result.get('Contents')\n",
    "]\n",
    "\n",
    "print(\"Capture Files: \")\n",
    "print(\"\\n\".join(capture_files))"
   ]
  },
  {
   "cell_type": "code",
   "execution_count": 76,
   "id": "68d83a97",
   "metadata": {
    "tags": []
   },
   "outputs": [
    {
     "name": "stdout",
     "output_type": "stream",
     "text": [
      "download: s3://sagemaker-us-east-1-335415446667/australia-rain/monitoring/datacapture/australia-rain-sm-endpoint-1731966974/AllTraffic/2024/11/18/22/00-45-707-5df1f258-11a1-42fd-b020-52abc68682e3.jsonl to datacapture/captured_data_example_0.jsonl\n",
      "download: s3://sagemaker-us-east-1-335415446667/australia-rain/monitoring/datacapture/australia-rain-sm-endpoint-1731966974/AllTraffic/2024/11/18/22/03-53-940-1bf54dc0-f23b-4ed0-b6f2-c1df76e1dede.jsonl to datacapture/captured_data_example_1.jsonl\n",
      "download: s3://sagemaker-us-east-1-335415446667/australia-rain/monitoring/datacapture/australia-rain-sm-endpoint-1731966974/AllTraffic/2024/11/18/22/05-07-314-539934b6-f1e9-436c-982e-ea0aabf7d748.jsonl to datacapture/captured_data_example_2.jsonl\n"
     ]
    }
   ],
   "source": [
    "!aws s3 cp {capture_files[0]} datacapture/captured_data_example_0.jsonl\n",
    "!aws s3 cp {capture_files[1]} datacapture/captured_data_example_1.jsonl\n",
    "!aws s3 cp {capture_files[2]} datacapture/captured_data_example_2.jsonl\n",
    "# !head datacapture/captured_data_example.jsonl"
   ]
  },
  {
   "cell_type": "markdown",
   "id": "113cea48-a7ae-4e22-995e-17a95671a380",
   "metadata": {},
   "source": [
    "Analizamos las primeras 4 predicciones, que dieron no, yes, no, yes respectivamente"
   ]
  },
  {
   "cell_type": "code",
   "execution_count": 80,
   "id": "9c0311bf",
   "metadata": {
    "tags": []
   },
   "outputs": [
    {
     "name": "stdout",
     "output_type": "stream",
     "text": [
      "{\n",
      "  \"captureData\": {\n",
      "    \"endpointInput\": {\n",
      "      \"observedContentType\": \"text/csv\",\n",
      "      \"mode\": \"INPUT\",\n",
      "      \"data\": \"1.0,-0.6720035672084514,-1.750436292789939,3.147074156972007,-1.2751979794448909,0.5844612877482018,1.4140559026347617,-1.3227605369525006,0.5397100975998633,-1.2407753183151389,0.5754290956249299,1.464126930349772,1.544852522085946,0.4361942319513341,1.0896905171715925,1.0178931757286425,1.008099343620971,-1.1785387167368813,-1.7378889535508568,1.860173368407406\",\n",
      "      \"encoding\": \"CSV\"\n",
      "    },\n",
      "    \"endpointOutput\": {\n",
      "      \"observedContentType\": \"text/csv; charset=utf-8\",\n",
      "      \"mode\": \"OUTPUT\",\n",
      "      \"data\": \"no\",\n",
      "      \"encoding\": \"CSV\"\n",
      "    }\n",
      "  },\n",
      "  \"eventMetadata\": {\n",
      "    \"eventId\": \"d009f9ac-84d3-468c-9b18-9854686e2fb8\",\n",
      "    \"inferenceTime\": \"2024-11-18T22:05:07Z\"\n",
      "  },\n",
      "  \"eventVersion\": \"0\"\n",
      "}\n",
      "{\n",
      "  \"captureData\": {\n",
      "    \"endpointInput\": {\n",
      "      \"observedContentType\": \"text/csv\",\n",
      "      \"mode\": \"INPUT\",\n",
      "      \"data\": \"1.0,-1.4979072347007536,-0.983348843817234,-0.386540055191026,1.093346611036003,1.054080652038285,-0.7662184177920998,-0.0028804886180247,1.4587492138239513,1.0961734502782443,1.0333846658765162,-0.8297405287752301,-0.6607439652895837,1.6205535206185615,0.0873330424668351,1.0615413432508995,0.9789194916921852,-1.5966142806233374,-0.9353169414990492,-0.5375446298127746\",\n",
      "      \"encoding\": \"CSV\"\n",
      "    },\n",
      "    \"endpointOutput\": {\n",
      "      \"observedContentType\": \"text/csv; charset=utf-8\",\n",
      "      \"mode\": \"OUTPUT\",\n",
      "      \"data\": \"yes\",\n",
      "      \"encoding\": \"CSV\"\n",
      "    }\n",
      "  },\n",
      "  \"eventMetadata\": {\n",
      "    \"eventId\": \"c7b3dc62-6499-4169-a033-79dbdbb29edb\",\n",
      "    \"inferenceTime\": \"2024-11-18T22:05:07Z\"\n",
      "  },\n",
      "  \"eventVersion\": \"0\"\n",
      "}\n",
      "{\n",
      "  \"captureData\": {\n",
      "    \"endpointInput\": {\n",
      "      \"observedContentType\": \"text/csv\",\n",
      "      \"mode\": \"INPUT\",\n",
      "      \"data\": \"1.0,-0.7343359194720214,-0.6566264118473782,3.3298473058769917,0.6222137993309528,-1.3068553244835757,0.8487995973389088,-0.0028804886180247,-1.5187801915413488,0.6313254383037208,-1.268913458243631,1.464126930349772,0.932186831148299,-0.5328270042309431,-0.4377113490451805,-0.9026261952509514,-0.6259723643915954,-0.5127146705473407,-0.7310258838858619,1.860173368407406\",\n",
      "      \"encoding\": \"CSV\"\n",
      "    },\n",
      "    \"endpointOutput\": {\n",
      "      \"observedContentType\": \"text/csv; charset=utf-8\",\n",
      "      \"mode\": \"OUTPUT\",\n",
      "      \"data\": \"no\",\n",
      "      \"encoding\": \"CSV\"\n",
      "    }\n",
      "  },\n",
      "  \"eventMetadata\": {\n",
      "    \"eventId\": \"a049c03f-8430-4e9e-ac36-0642218cdccc\",\n",
      "    \"inferenceTime\": \"2024-11-18T22:05:07Z\"\n",
      "  },\n",
      "  \"eventVersion\": \"0\"\n",
      "}\n",
      "{\n",
      "  \"captureData\": {\n",
      "    \"endpointInput\": {\n",
      "      \"observedContentType\": \"text/csv\",\n",
      "      \"mode\": \"INPUT\",\n",
      "      \"data\": \"1.0,2.2887831653111226,1.2895028568426317,-0.0209937573810571,0.6222137993309528,1.367870279195103,-0.3624639140093477,0.5438317281643241,1.3454237486582494,0.6313254383037208,1.339380795020094,0.3775581339221394,0.4420542783981812,0.9745393631637104,0.8033026672559473,-1.12086703286227,-1.2971089587539069,1.6705688297485957,1.3702535658497803,1.860173368407406\",\n",
      "      \"encoding\": \"CSV\"\n",
      "    },\n",
      "    \"endpointOutput\": {\n",
      "      \"observedContentType\": \"text/csv; charset=utf-8\",\n",
      "      \"mode\": \"OUTPUT\",\n",
      "      \"data\": \"yes\",\n",
      "      \"encoding\": \"CSV\"\n",
      "    }\n",
      "  },\n",
      "  \"eventMetadata\": {\n",
      "    \"eventId\": \"647052f0-1bff-4279-b586-65d72bc2cace\",\n",
      "    \"inferenceTime\": \"2024-11-18T22:05:07Z\"\n",
      "  },\n",
      "  \"eventVersion\": \"0\"\n",
      "}\n"
     ]
    }
   ],
   "source": [
    "import json\n",
    "with open(\"datacapture/captured_data_example_2.jsonl\", \"r\") as f:\n",
    "    data = f.read()\n",
    "\n",
    "print(json.dumps(json.loads(data.split(\"\\n\")[0]), indent=2))\n",
    "print(json.dumps(json.loads(data.split(\"\\n\")[1]), indent=2))\n",
    "print(json.dumps(json.loads(data.split(\"\\n\")[2]), indent=2))\n",
    "print(json.dumps(json.loads(data.split(\"\\n\")[3]), indent=2))"
   ]
  },
  {
   "cell_type": "code",
   "execution_count": null,
   "id": "9b1ff2f1-2b76-48b8-8b94-411c8b6b7090",
   "metadata": {},
   "outputs": [],
   "source": []
  }
 ],
 "metadata": {
  "availableInstances": [
   {
    "_defaultOrder": 0,
    "_isFastLaunch": true,
    "category": "General purpose",
    "gpuNum": 0,
    "hideHardwareSpecs": false,
    "memoryGiB": 4,
    "name": "ml.t3.medium",
    "vcpuNum": 2
   },
   {
    "_defaultOrder": 1,
    "_isFastLaunch": false,
    "category": "General purpose",
    "gpuNum": 0,
    "hideHardwareSpecs": false,
    "memoryGiB": 8,
    "name": "ml.t3.large",
    "vcpuNum": 2
   },
   {
    "_defaultOrder": 2,
    "_isFastLaunch": false,
    "category": "General purpose",
    "gpuNum": 0,
    "hideHardwareSpecs": false,
    "memoryGiB": 16,
    "name": "ml.t3.xlarge",
    "vcpuNum": 4
   },
   {
    "_defaultOrder": 3,
    "_isFastLaunch": false,
    "category": "General purpose",
    "gpuNum": 0,
    "hideHardwareSpecs": false,
    "memoryGiB": 32,
    "name": "ml.t3.2xlarge",
    "vcpuNum": 8
   },
   {
    "_defaultOrder": 4,
    "_isFastLaunch": true,
    "category": "General purpose",
    "gpuNum": 0,
    "hideHardwareSpecs": false,
    "memoryGiB": 8,
    "name": "ml.m5.large",
    "vcpuNum": 2
   },
   {
    "_defaultOrder": 5,
    "_isFastLaunch": false,
    "category": "General purpose",
    "gpuNum": 0,
    "hideHardwareSpecs": false,
    "memoryGiB": 16,
    "name": "ml.m5.xlarge",
    "vcpuNum": 4
   },
   {
    "_defaultOrder": 6,
    "_isFastLaunch": false,
    "category": "General purpose",
    "gpuNum": 0,
    "hideHardwareSpecs": false,
    "memoryGiB": 32,
    "name": "ml.m5.2xlarge",
    "vcpuNum": 8
   },
   {
    "_defaultOrder": 7,
    "_isFastLaunch": false,
    "category": "General purpose",
    "gpuNum": 0,
    "hideHardwareSpecs": false,
    "memoryGiB": 64,
    "name": "ml.m5.4xlarge",
    "vcpuNum": 16
   },
   {
    "_defaultOrder": 8,
    "_isFastLaunch": false,
    "category": "General purpose",
    "gpuNum": 0,
    "hideHardwareSpecs": false,
    "memoryGiB": 128,
    "name": "ml.m5.8xlarge",
    "vcpuNum": 32
   },
   {
    "_defaultOrder": 9,
    "_isFastLaunch": false,
    "category": "General purpose",
    "gpuNum": 0,
    "hideHardwareSpecs": false,
    "memoryGiB": 192,
    "name": "ml.m5.12xlarge",
    "vcpuNum": 48
   },
   {
    "_defaultOrder": 10,
    "_isFastLaunch": false,
    "category": "General purpose",
    "gpuNum": 0,
    "hideHardwareSpecs": false,
    "memoryGiB": 256,
    "name": "ml.m5.16xlarge",
    "vcpuNum": 64
   },
   {
    "_defaultOrder": 11,
    "_isFastLaunch": false,
    "category": "General purpose",
    "gpuNum": 0,
    "hideHardwareSpecs": false,
    "memoryGiB": 384,
    "name": "ml.m5.24xlarge",
    "vcpuNum": 96
   },
   {
    "_defaultOrder": 12,
    "_isFastLaunch": false,
    "category": "General purpose",
    "gpuNum": 0,
    "hideHardwareSpecs": false,
    "memoryGiB": 8,
    "name": "ml.m5d.large",
    "vcpuNum": 2
   },
   {
    "_defaultOrder": 13,
    "_isFastLaunch": false,
    "category": "General purpose",
    "gpuNum": 0,
    "hideHardwareSpecs": false,
    "memoryGiB": 16,
    "name": "ml.m5d.xlarge",
    "vcpuNum": 4
   },
   {
    "_defaultOrder": 14,
    "_isFastLaunch": false,
    "category": "General purpose",
    "gpuNum": 0,
    "hideHardwareSpecs": false,
    "memoryGiB": 32,
    "name": "ml.m5d.2xlarge",
    "vcpuNum": 8
   },
   {
    "_defaultOrder": 15,
    "_isFastLaunch": false,
    "category": "General purpose",
    "gpuNum": 0,
    "hideHardwareSpecs": false,
    "memoryGiB": 64,
    "name": "ml.m5d.4xlarge",
    "vcpuNum": 16
   },
   {
    "_defaultOrder": 16,
    "_isFastLaunch": false,
    "category": "General purpose",
    "gpuNum": 0,
    "hideHardwareSpecs": false,
    "memoryGiB": 128,
    "name": "ml.m5d.8xlarge",
    "vcpuNum": 32
   },
   {
    "_defaultOrder": 17,
    "_isFastLaunch": false,
    "category": "General purpose",
    "gpuNum": 0,
    "hideHardwareSpecs": false,
    "memoryGiB": 192,
    "name": "ml.m5d.12xlarge",
    "vcpuNum": 48
   },
   {
    "_defaultOrder": 18,
    "_isFastLaunch": false,
    "category": "General purpose",
    "gpuNum": 0,
    "hideHardwareSpecs": false,
    "memoryGiB": 256,
    "name": "ml.m5d.16xlarge",
    "vcpuNum": 64
   },
   {
    "_defaultOrder": 19,
    "_isFastLaunch": false,
    "category": "General purpose",
    "gpuNum": 0,
    "hideHardwareSpecs": false,
    "memoryGiB": 384,
    "name": "ml.m5d.24xlarge",
    "vcpuNum": 96
   },
   {
    "_defaultOrder": 20,
    "_isFastLaunch": false,
    "category": "General purpose",
    "gpuNum": 0,
    "hideHardwareSpecs": true,
    "memoryGiB": 0,
    "name": "ml.geospatial.interactive",
    "supportedImageNames": [
     "sagemaker-geospatial-v1-0"
    ],
    "vcpuNum": 0
   },
   {
    "_defaultOrder": 21,
    "_isFastLaunch": true,
    "category": "Compute optimized",
    "gpuNum": 0,
    "hideHardwareSpecs": false,
    "memoryGiB": 4,
    "name": "ml.c5.large",
    "vcpuNum": 2
   },
   {
    "_defaultOrder": 22,
    "_isFastLaunch": false,
    "category": "Compute optimized",
    "gpuNum": 0,
    "hideHardwareSpecs": false,
    "memoryGiB": 8,
    "name": "ml.c5.xlarge",
    "vcpuNum": 4
   },
   {
    "_defaultOrder": 23,
    "_isFastLaunch": false,
    "category": "Compute optimized",
    "gpuNum": 0,
    "hideHardwareSpecs": false,
    "memoryGiB": 16,
    "name": "ml.c5.2xlarge",
    "vcpuNum": 8
   },
   {
    "_defaultOrder": 24,
    "_isFastLaunch": false,
    "category": "Compute optimized",
    "gpuNum": 0,
    "hideHardwareSpecs": false,
    "memoryGiB": 32,
    "name": "ml.c5.4xlarge",
    "vcpuNum": 16
   },
   {
    "_defaultOrder": 25,
    "_isFastLaunch": false,
    "category": "Compute optimized",
    "gpuNum": 0,
    "hideHardwareSpecs": false,
    "memoryGiB": 72,
    "name": "ml.c5.9xlarge",
    "vcpuNum": 36
   },
   {
    "_defaultOrder": 26,
    "_isFastLaunch": false,
    "category": "Compute optimized",
    "gpuNum": 0,
    "hideHardwareSpecs": false,
    "memoryGiB": 96,
    "name": "ml.c5.12xlarge",
    "vcpuNum": 48
   },
   {
    "_defaultOrder": 27,
    "_isFastLaunch": false,
    "category": "Compute optimized",
    "gpuNum": 0,
    "hideHardwareSpecs": false,
    "memoryGiB": 144,
    "name": "ml.c5.18xlarge",
    "vcpuNum": 72
   },
   {
    "_defaultOrder": 28,
    "_isFastLaunch": false,
    "category": "Compute optimized",
    "gpuNum": 0,
    "hideHardwareSpecs": false,
    "memoryGiB": 192,
    "name": "ml.c5.24xlarge",
    "vcpuNum": 96
   },
   {
    "_defaultOrder": 29,
    "_isFastLaunch": true,
    "category": "Accelerated computing",
    "gpuNum": 1,
    "hideHardwareSpecs": false,
    "memoryGiB": 16,
    "name": "ml.g4dn.xlarge",
    "vcpuNum": 4
   },
   {
    "_defaultOrder": 30,
    "_isFastLaunch": false,
    "category": "Accelerated computing",
    "gpuNum": 1,
    "hideHardwareSpecs": false,
    "memoryGiB": 32,
    "name": "ml.g4dn.2xlarge",
    "vcpuNum": 8
   },
   {
    "_defaultOrder": 31,
    "_isFastLaunch": false,
    "category": "Accelerated computing",
    "gpuNum": 1,
    "hideHardwareSpecs": false,
    "memoryGiB": 64,
    "name": "ml.g4dn.4xlarge",
    "vcpuNum": 16
   },
   {
    "_defaultOrder": 32,
    "_isFastLaunch": false,
    "category": "Accelerated computing",
    "gpuNum": 1,
    "hideHardwareSpecs": false,
    "memoryGiB": 128,
    "name": "ml.g4dn.8xlarge",
    "vcpuNum": 32
   },
   {
    "_defaultOrder": 33,
    "_isFastLaunch": false,
    "category": "Accelerated computing",
    "gpuNum": 4,
    "hideHardwareSpecs": false,
    "memoryGiB": 192,
    "name": "ml.g4dn.12xlarge",
    "vcpuNum": 48
   },
   {
    "_defaultOrder": 34,
    "_isFastLaunch": false,
    "category": "Accelerated computing",
    "gpuNum": 1,
    "hideHardwareSpecs": false,
    "memoryGiB": 256,
    "name": "ml.g4dn.16xlarge",
    "vcpuNum": 64
   },
   {
    "_defaultOrder": 35,
    "_isFastLaunch": false,
    "category": "Accelerated computing",
    "gpuNum": 1,
    "hideHardwareSpecs": false,
    "memoryGiB": 61,
    "name": "ml.p3.2xlarge",
    "vcpuNum": 8
   },
   {
    "_defaultOrder": 36,
    "_isFastLaunch": false,
    "category": "Accelerated computing",
    "gpuNum": 4,
    "hideHardwareSpecs": false,
    "memoryGiB": 244,
    "name": "ml.p3.8xlarge",
    "vcpuNum": 32
   },
   {
    "_defaultOrder": 37,
    "_isFastLaunch": false,
    "category": "Accelerated computing",
    "gpuNum": 8,
    "hideHardwareSpecs": false,
    "memoryGiB": 488,
    "name": "ml.p3.16xlarge",
    "vcpuNum": 64
   },
   {
    "_defaultOrder": 38,
    "_isFastLaunch": false,
    "category": "Accelerated computing",
    "gpuNum": 8,
    "hideHardwareSpecs": false,
    "memoryGiB": 768,
    "name": "ml.p3dn.24xlarge",
    "vcpuNum": 96
   },
   {
    "_defaultOrder": 39,
    "_isFastLaunch": false,
    "category": "Memory Optimized",
    "gpuNum": 0,
    "hideHardwareSpecs": false,
    "memoryGiB": 16,
    "name": "ml.r5.large",
    "vcpuNum": 2
   },
   {
    "_defaultOrder": 40,
    "_isFastLaunch": false,
    "category": "Memory Optimized",
    "gpuNum": 0,
    "hideHardwareSpecs": false,
    "memoryGiB": 32,
    "name": "ml.r5.xlarge",
    "vcpuNum": 4
   },
   {
    "_defaultOrder": 41,
    "_isFastLaunch": false,
    "category": "Memory Optimized",
    "gpuNum": 0,
    "hideHardwareSpecs": false,
    "memoryGiB": 64,
    "name": "ml.r5.2xlarge",
    "vcpuNum": 8
   },
   {
    "_defaultOrder": 42,
    "_isFastLaunch": false,
    "category": "Memory Optimized",
    "gpuNum": 0,
    "hideHardwareSpecs": false,
    "memoryGiB": 128,
    "name": "ml.r5.4xlarge",
    "vcpuNum": 16
   },
   {
    "_defaultOrder": 43,
    "_isFastLaunch": false,
    "category": "Memory Optimized",
    "gpuNum": 0,
    "hideHardwareSpecs": false,
    "memoryGiB": 256,
    "name": "ml.r5.8xlarge",
    "vcpuNum": 32
   },
   {
    "_defaultOrder": 44,
    "_isFastLaunch": false,
    "category": "Memory Optimized",
    "gpuNum": 0,
    "hideHardwareSpecs": false,
    "memoryGiB": 384,
    "name": "ml.r5.12xlarge",
    "vcpuNum": 48
   },
   {
    "_defaultOrder": 45,
    "_isFastLaunch": false,
    "category": "Memory Optimized",
    "gpuNum": 0,
    "hideHardwareSpecs": false,
    "memoryGiB": 512,
    "name": "ml.r5.16xlarge",
    "vcpuNum": 64
   },
   {
    "_defaultOrder": 46,
    "_isFastLaunch": false,
    "category": "Memory Optimized",
    "gpuNum": 0,
    "hideHardwareSpecs": false,
    "memoryGiB": 768,
    "name": "ml.r5.24xlarge",
    "vcpuNum": 96
   },
   {
    "_defaultOrder": 47,
    "_isFastLaunch": false,
    "category": "Accelerated computing",
    "gpuNum": 1,
    "hideHardwareSpecs": false,
    "memoryGiB": 16,
    "name": "ml.g5.xlarge",
    "vcpuNum": 4
   },
   {
    "_defaultOrder": 48,
    "_isFastLaunch": false,
    "category": "Accelerated computing",
    "gpuNum": 1,
    "hideHardwareSpecs": false,
    "memoryGiB": 32,
    "name": "ml.g5.2xlarge",
    "vcpuNum": 8
   },
   {
    "_defaultOrder": 49,
    "_isFastLaunch": false,
    "category": "Accelerated computing",
    "gpuNum": 1,
    "hideHardwareSpecs": false,
    "memoryGiB": 64,
    "name": "ml.g5.4xlarge",
    "vcpuNum": 16
   },
   {
    "_defaultOrder": 50,
    "_isFastLaunch": false,
    "category": "Accelerated computing",
    "gpuNum": 1,
    "hideHardwareSpecs": false,
    "memoryGiB": 128,
    "name": "ml.g5.8xlarge",
    "vcpuNum": 32
   },
   {
    "_defaultOrder": 51,
    "_isFastLaunch": false,
    "category": "Accelerated computing",
    "gpuNum": 1,
    "hideHardwareSpecs": false,
    "memoryGiB": 256,
    "name": "ml.g5.16xlarge",
    "vcpuNum": 64
   },
   {
    "_defaultOrder": 52,
    "_isFastLaunch": false,
    "category": "Accelerated computing",
    "gpuNum": 4,
    "hideHardwareSpecs": false,
    "memoryGiB": 192,
    "name": "ml.g5.12xlarge",
    "vcpuNum": 48
   },
   {
    "_defaultOrder": 53,
    "_isFastLaunch": false,
    "category": "Accelerated computing",
    "gpuNum": 4,
    "hideHardwareSpecs": false,
    "memoryGiB": 384,
    "name": "ml.g5.24xlarge",
    "vcpuNum": 96
   },
   {
    "_defaultOrder": 54,
    "_isFastLaunch": false,
    "category": "Accelerated computing",
    "gpuNum": 8,
    "hideHardwareSpecs": false,
    "memoryGiB": 768,
    "name": "ml.g5.48xlarge",
    "vcpuNum": 192
   },
   {
    "_defaultOrder": 55,
    "_isFastLaunch": false,
    "category": "Accelerated computing",
    "gpuNum": 8,
    "hideHardwareSpecs": false,
    "memoryGiB": 1152,
    "name": "ml.p4d.24xlarge",
    "vcpuNum": 96
   },
   {
    "_defaultOrder": 56,
    "_isFastLaunch": false,
    "category": "Accelerated computing",
    "gpuNum": 8,
    "hideHardwareSpecs": false,
    "memoryGiB": 1152,
    "name": "ml.p4de.24xlarge",
    "vcpuNum": 96
   },
   {
    "_defaultOrder": 57,
    "_isFastLaunch": false,
    "category": "Accelerated computing",
    "gpuNum": 0,
    "hideHardwareSpecs": false,
    "memoryGiB": 32,
    "name": "ml.trn1.2xlarge",
    "vcpuNum": 8
   },
   {
    "_defaultOrder": 58,
    "_isFastLaunch": false,
    "category": "Accelerated computing",
    "gpuNum": 0,
    "hideHardwareSpecs": false,
    "memoryGiB": 512,
    "name": "ml.trn1.32xlarge",
    "vcpuNum": 128
   },
   {
    "_defaultOrder": 59,
    "_isFastLaunch": false,
    "category": "Accelerated computing",
    "gpuNum": 0,
    "hideHardwareSpecs": false,
    "memoryGiB": 512,
    "name": "ml.trn1n.32xlarge",
    "vcpuNum": 128
   }
  ],
  "instance_type": "ml.t3.medium",
  "kernelspec": {
   "display_name": "Python 3 (Data Science 3.0)",
   "language": "python",
   "name": "python3__SAGEMAKER_INTERNAL__arn:aws:sagemaker:us-east-1:081325390199:image/sagemaker-data-science-310-v1"
  },
  "language_info": {
   "codemirror_mode": {
    "name": "ipython",
    "version": 3
   },
   "file_extension": ".py",
   "mimetype": "text/x-python",
   "name": "python",
   "nbconvert_exporter": "python",
   "pygments_lexer": "ipython3",
   "version": "3.10.6"
  }
 },
 "nbformat": 4,
 "nbformat_minor": 5
}
