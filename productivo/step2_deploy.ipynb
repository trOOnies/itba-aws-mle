{
 "cells": [
  {
   "cell_type": "markdown",
   "id": "1afebb0c-968b-4864-8684-dd1db09d36f2",
   "metadata": {},
   "source": [
    "# Step 2 - Deploy del modelo"
   ]
  },
  {
   "cell_type": "markdown",
   "id": "36ad3d2a-b551-48f9-a02a-8571e5ade4a3",
   "metadata": {},
   "source": [
    "## Seteos iniciales"
   ]
  },
  {
   "cell_type": "markdown",
   "id": "d5b0bf9f-7eb4-499b-b873-ded96a12cf2d",
   "metadata": {},
   "source": [
    "Logueamos sólo los mensajes de warning y error"
   ]
  },
  {
   "cell_type": "code",
   "execution_count": 1,
   "id": "c4855513-5620-409c-8fb6-1123e27764f7",
   "metadata": {},
   "outputs": [],
   "source": [
    "import logging\n",
    "\n",
    "logging.getLogger(\"sagemaker.config\").setLevel(logging.WARNING)\n",
    "logging.getLogger(\"sagemaker.experiments.run\").setLevel(logging.WARNING)"
   ]
  },
  {
   "cell_type": "markdown",
   "id": "0ed45af1-e289-4de5-b80e-a8d6bf10ac66",
   "metadata": {},
   "source": [
    "Mostramos las versiones de las librerías de Python importantes para el proyecto"
   ]
  },
  {
   "cell_type": "code",
   "execution_count": 2,
   "id": "747d3890-71a9-440d-8186-1523d330b960",
   "metadata": {
    "tags": []
   },
   "outputs": [
    {
     "name": "stdout",
     "output_type": "stream",
     "text": [
      "sagemaker\t 2.215.0\n",
      "pandas\t\t 2.2.2\n",
      "numpy\t\t 1.26.4\n",
      "boto3\t\t 1.34.84\n",
      "awscli\t\t 1.32.84\n"
     ]
    }
   ],
   "source": [
    "import awscli\n",
    "import boto3\n",
    "import numpy\n",
    "import pandas\n",
    "import sagemaker\n",
    "\n",
    "print(\"sagemaker\\t\", sagemaker.__version__)\n",
    "print(\"pandas\\t\\t\", pandas.__version__)\n",
    "print(\"numpy\\t\\t\", numpy.__version__)\n",
    "print(\"boto3\\t\\t\", boto3.__version__)\n",
    "print(\"awscli\\t\\t\", awscli.__version__)"
   ]
  },
  {
   "cell_type": "code",
   "execution_count": null,
   "id": "f1819196-152a-4a6a-bd88-d2c93f496f08",
   "metadata": {
    "tags": []
   },
   "outputs": [
    {
     "name": "stdout",
     "output_type": "stream",
     "text": [
      "Region: us-east-1\n",
      "Rol: arn:aws:iam::335415446667:role/service-role/AmazonSageMakerExecutionRole-sagemaker-stack\n",
      "Info S3:\n",
      "- Bucket: sagemaker-us-east-1-335415446667\n",
      "- Prefix: train_val\n"
     ]
    }
   ],
   "source": [
    "role = sagemaker.get_execution_role()\n",
    "region = boto3.Session().region_name\n",
    "\n",
    "sage_session = sagemaker.Session()\n",
    "bucket_name = sage_session.default_bucket()\n",
    "prefix = \"australia-rain\"\n",
    "project_fd = f\"s3://{bucket_name}/{prefix}\"\n",
    "\n",
    "print(\"Region:\", region)\n",
    "print(\"Rol:\", role)\n",
    "print(\"Info S3:\")\n",
    "print(f\"- Bucket: {bucket_name}\")\n",
    "print(f\"- Prefix: {prefix}\")"
   ]
  },
  {
   "cell_type": "markdown",
   "id": "3ef99e4a-7879-4c0b-86cb-0369e529d335",
   "metadata": {},
   "source": [
    "## Modelo"
   ]
  },
  {
   "cell_type": "code",
   "execution_count": null,
   "id": "dcf588b1-1aa7-4715-a482-7d2c0d437d7c",
   "metadata": {},
   "outputs": [],
   "source": [
    "from notebook_utilities import get_latest_training_job_name, get_training_job_s3_model_artifacts\n",
    "\n",
    "train_base_job_name   = f\"{prefix}-sm-xgb\"\n",
    "latest_train_job_name = get_latest_training_job_name(train_base_job_name)\n",
    "model_path            = get_training_job_s3_model_artifacts(latest_train_job_name)\n",
    "\n",
    "print(f\"Model path: {model_path}\")"
   ]
  },
  {
   "cell_type": "code",
   "execution_count": null,
   "id": "a2600675-e917-4a54-9680-2f826b0b988c",
   "metadata": {},
   "outputs": [],
   "source": [
    "import time\n",
    "from sagemaker.xgboost import XGBoostModel\n",
    "\n",
    "code_location = f\"{project_fd}/code\"\n",
    "xgboost_model = XGBoostModel(\n",
    "    name=f\"{train_base_job_name}-model-{int(time.time())}\",\n",
    "    model_data=model_path,\n",
    "    entry_point=\"inference.py\",\n",
    "    source_dir=\"xgboost_source_dir/\",\n",
    "    code_location=code_location,\n",
    "    framework_version=\"0.90-2\",\n",
    "    py_version=\"py3\",\n",
    "    role=role, \n",
    "    sagemaker_session=sage_session,\n",
    ")"
   ]
  },
  {
   "cell_type": "markdown",
   "id": "fe4868cb",
   "metadata": {},
   "source": [
    "## Deploy del modelo"
   ]
  },
  {
   "cell_type": "code",
   "execution_count": null,
   "id": "dc64cfeb",
   "metadata": {},
   "outputs": [],
   "source": [
    "import time\n",
    "\n",
    "from sagemaker.model_monitor import DataCaptureConfig\n",
    "\n",
    "s3_capture_upload_path = f\"{project_fd}/monitoring/datacapture\"\n",
    "print(f\"The endpoint will upload captured data to {s3_capture_upload_path}\")\n",
    "\n",
    "endpoint_name = f\"{prefix}-sm-endpoint-{int(time.time())}\"\n",
    "\n",
    "print(f\"\\n*** Endpoint Name ***\\n\\n{endpoint_name}\")\n",
    "\n",
    "xgboost_model.deploy(\n",
    "    initial_instance_count=1, \n",
    "    instance_type=\"ml.m5.xlarge\", \n",
    "    endpoint_name=endpoint_name,\n",
    "    data_capture_config=DataCaptureConfig(\n",
    "        enable_capture=True,\n",
    "        sampling_percentage=100,\n",
    "        destination_s3_uri=s3_capture_upload_path,\n",
    "    ),\n",
    ")"
   ]
  },
  {
   "cell_type": "markdown",
   "id": "15597d77",
   "metadata": {},
   "source": [
    "## Inferencia"
   ]
  },
  {
   "cell_type": "code",
   "execution_count": null,
   "id": "82afa219",
   "metadata": {},
   "outputs": [],
   "source": [
    "from sagemaker.deserializers import CSVDeserializer\n",
    "from sagemaker.predictor import Predictor\n",
    "from sagemaker.serializers import CSVSerializer\n",
    "\n",
    "predictor = Predictor(\n",
    "    endpoint_name=endpoint_name,\n",
    "    sagemaker_session=sage_session,\n",
    "    serializer=CSVSerializer(),\n",
    "    deserializer=CSVDeserializer(),\n",
    ")"
   ]
  },
  {
   "cell_type": "code",
   "execution_count": null,
   "id": "72d1c564",
   "metadata": {},
   "outputs": [
    {
     "data": {
      "text/html": [
       "<div>\n",
       "<style scoped>\n",
       "    .dataframe tbody tr th:only-of-type {\n",
       "        vertical-align: middle;\n",
       "    }\n",
       "\n",
       "    .dataframe tbody tr th {\n",
       "        vertical-align: top;\n",
       "    }\n",
       "\n",
       "    .dataframe thead th {\n",
       "        text-align: right;\n",
       "    }\n",
       "</style>\n",
       "<table border=\"1\" class=\"dataframe\">\n",
       "  <thead>\n",
       "    <tr style=\"text-align: right;\">\n",
       "      <th></th>\n",
       "      <th>MinTemp</th>\n",
       "      <th>MaxTemp</th>\n",
       "      <th>Rainfall</th>\n",
       "      <th>WindGustSpeed</th>\n",
       "      <th>WindSpeed9am</th>\n",
       "      <th>WindSpeed3pm</th>\n",
       "      <th>Humidity9am</th>\n",
       "      <th>Humidity3pm</th>\n",
       "      <th>Pressure9am</th>\n",
       "      <th>Pressure3pm</th>\n",
       "      <th>Temp9am</th>\n",
       "      <th>Temp3pm</th>\n",
       "      <th>RainToday</th>\n",
       "      <th>WindGustDir_east</th>\n",
       "      <th>WindGustDir_north</th>\n",
       "      <th>WindDir9am_east</th>\n",
       "      <th>WindDir9am_north</th>\n",
       "      <th>WindDir3pm_east</th>\n",
       "      <th>WindDir3pm_north</th>\n",
       "    </tr>\n",
       "  </thead>\n",
       "  <tbody>\n",
       "    <tr>\n",
       "      <th>0</th>\n",
       "      <td>1.211401</td>\n",
       "      <td>1.152702</td>\n",
       "      <td>-0.229017</td>\n",
       "      <td>-0.080519</td>\n",
       "      <td>0.309775</td>\n",
       "      <td>-1.141891</td>\n",
       "      <td>0.028559</td>\n",
       "      <td>0.192704</td>\n",
       "      <td>-1.371232</td>\n",
       "      <td>-1.383499</td>\n",
       "      <td>1.247170</td>\n",
       "      <td>1.162131</td>\n",
       "      <td>-0.531932</td>\n",
       "      <td>1.324919</td>\n",
       "      <td>-0.474859</td>\n",
       "      <td>1.405556</td>\n",
       "      <td>-0.013734</td>\n",
       "      <td>1.334753</td>\n",
       "      <td>0.605610</td>\n",
       "    </tr>\n",
       "    <tr>\n",
       "      <th>1</th>\n",
       "      <td>-0.153948</td>\n",
       "      <td>-0.720034</td>\n",
       "      <td>-0.277102</td>\n",
       "      <td>-0.895915</td>\n",
       "      <td>-0.837656</td>\n",
       "      <td>-0.909887</td>\n",
       "      <td>-0.544163</td>\n",
       "      <td>0.528628</td>\n",
       "      <td>0.800877</td>\n",
       "      <td>0.781688</td>\n",
       "      <td>-0.416770</td>\n",
       "      <td>-0.642591</td>\n",
       "      <td>-0.531932</td>\n",
       "      <td>-1.270054</td>\n",
       "      <td>0.618431</td>\n",
       "      <td>-1.060554</td>\n",
       "      <td>-0.994312</td>\n",
       "      <td>1.029443</td>\n",
       "      <td>-0.945701</td>\n",
       "    </tr>\n",
       "    <tr>\n",
       "      <th>2</th>\n",
       "      <td>0.280482</td>\n",
       "      <td>-0.622205</td>\n",
       "      <td>-0.108804</td>\n",
       "      <td>0.734877</td>\n",
       "      <td>0.080289</td>\n",
       "      <td>0.830141</td>\n",
       "      <td>1.121937</td>\n",
       "      <td>0.672595</td>\n",
       "      <td>-0.214654</td>\n",
       "      <td>-0.215437</td>\n",
       "      <td>-0.355708</td>\n",
       "      <td>-0.513682</td>\n",
       "      <td>1.879924</td>\n",
       "      <td>-0.510004</td>\n",
       "      <td>-1.247932</td>\n",
       "      <td>-1.373707</td>\n",
       "      <td>-0.544419</td>\n",
       "      <td>-0.505453</td>\n",
       "      <td>-1.254276</td>\n",
       "    </tr>\n",
       "    <tr>\n",
       "      <th>3</th>\n",
       "      <td>-1.736512</td>\n",
       "      <td>-0.133057</td>\n",
       "      <td>-0.277102</td>\n",
       "      <td>0.067735</td>\n",
       "      <td>-0.608170</td>\n",
       "      <td>-0.445880</td>\n",
       "      <td>0.080625</td>\n",
       "      <td>-1.103001</td>\n",
       "      <td>-0.398014</td>\n",
       "      <td>-0.941915</td>\n",
       "      <td>-0.676284</td>\n",
       "      <td>-0.098310</td>\n",
       "      <td>-0.531932</td>\n",
       "      <td>1.324919</td>\n",
       "      <td>0.618431</td>\n",
       "      <td>1.295592</td>\n",
       "      <td>0.516952</td>\n",
       "      <td>1.334753</td>\n",
       "      <td>0.605610</td>\n",
       "    </tr>\n",
       "  </tbody>\n",
       "</table>\n",
       "</div>"
      ],
      "text/plain": [
       "    MinTemp   MaxTemp  Rainfall  WindGustSpeed  WindSpeed9am  WindSpeed3pm  \\\n",
       "0  1.211401  1.152702 -0.229017      -0.080519      0.309775     -1.141891   \n",
       "1 -0.153948 -0.720034 -0.277102      -0.895915     -0.837656     -0.909887   \n",
       "2  0.280482 -0.622205 -0.108804       0.734877      0.080289      0.830141   \n",
       "3 -1.736512 -0.133057 -0.277102       0.067735     -0.608170     -0.445880   \n",
       "\n",
       "   Humidity9am  Humidity3pm  Pressure9am  Pressure3pm   Temp9am   Temp3pm  \\\n",
       "0     0.028559     0.192704    -1.371232    -1.383499  1.247170  1.162131   \n",
       "1    -0.544163     0.528628     0.800877     0.781688 -0.416770 -0.642591   \n",
       "2     1.121937     0.672595    -0.214654    -0.215437 -0.355708 -0.513682   \n",
       "3     0.080625    -1.103001    -0.398014    -0.941915 -0.676284 -0.098310   \n",
       "\n",
       "   RainToday  WindGustDir_east  WindGustDir_north  WindDir9am_east  \\\n",
       "0  -0.531932          1.324919          -0.474859         1.405556   \n",
       "1  -0.531932         -1.270054           0.618431        -1.060554   \n",
       "2   1.879924         -0.510004          -1.247932        -1.373707   \n",
       "3  -0.531932          1.324919           0.618431         1.295592   \n",
       "\n",
       "   WindDir9am_north  WindDir3pm_east  WindDir3pm_north  \n",
       "0         -0.013734         1.334753          0.605610  \n",
       "1         -0.994312         1.029443         -0.945701  \n",
       "2         -0.544419        -0.505453         -1.254276  \n",
       "3          0.516952         1.334753          0.605610  "
      ]
     },
     "execution_count": 5,
     "metadata": {},
     "output_type": "execute_result"
    }
   ],
   "source": [
    "# Usamos las filas 0, 1, 8 & 9 de la data de train_val (F, F, T, T)\n",
    "examples = {\n",
    "    \"MinTemp\":           [ 1.211401,     -0.153948,      0.280482,      -1.736512],\n",
    "    \"MaxTemp\":           [ 1.152702,     -0.720034,     -0.622205,      -0.133057],\n",
    "    \"Rainfall\":          [-0.229017,     -0.277102,     -0.108804,      -0.277102],\n",
    "    \"WindGustSpeed\":     [-0.080519,     -0.895915,      0.734877,       0.067735],\n",
    "    \"WindSpeed9am\":      [ 0.309775,     -0.837656,      0.080289,      -0.608170],\n",
    "    \"WindSpeed3pm\":      [-1.141891,     -0.909887,      0.830141,      -0.445880],\n",
    "    \"Humidity9am\":       [ 0.028559,     -0.544163,      1.121937,       0.080625],\n",
    "    \"Humidity3pm\":       [ 0.192704,      0.528628,      0.672595,      -1.103001],\n",
    "    \"Pressure9am\":       [-1.371232,      0.800877,     -0.214654,      -0.398014],\n",
    "    \"Pressure3pm\":       [-1.383499,      0.781688,     -0.215437,      -0.941915],\n",
    "    \"Temp9am\":           [ 1.247170,     -0.416770,     -0.355708,      -0.676284],\n",
    "    \"Temp3pm\":           [ 1.162131,     -0.642591,     -0.513682,      -0.098310],\n",
    "    \"RainToday\":         [-0.531932,     -0.531932,      1.879924,      -0.531932],\n",
    "    \"WindGustDir_east\":  [ 1.324919,     -1.270054,     -0.510004,       1.324919],\n",
    "    \"WindGustDir_north\": [-0.474859,      0.618431,     -1.247932,       0.618431],\n",
    "    \"WindDir9am_east\":   [ 1.405556,     -1.060554,     -1.373707,       1.295592],\n",
    "    \"WindDir9am_north\":  [-0.013734,     -0.994312,     -0.544419,       0.516952],\n",
    "    \"WindDir3pm_east\":   [ 1.334753,      1.029443,     -0.5054534,      1.334753],\n",
    "    \"WindDir3pm_north\":  [ 0.605610,     -0.945701,     -1.254276,       0.6056103],\n",
    "}\n",
    "examples = pandas.DataFrame.from_dict(examples)\n",
    "examples"
   ]
  },
  {
   "cell_type": "code",
   "execution_count": null,
   "id": "c0916f0f",
   "metadata": {},
   "outputs": [],
   "source": [
    "\n",
    "for _, row in examples.iterrows():\n",
    "    payload = \",\".join([str(v) for v in row])\n",
    "    print(payload)\n",
    "    print(\"Prediction:\", predictor.predict(payload))\n",
    "    print(10 * \"-\")"
   ]
  },
  {
   "cell_type": "markdown",
   "id": "7514a188",
   "metadata": {},
   "source": [
    "### Data capturada"
   ]
  },
  {
   "cell_type": "code",
   "execution_count": null,
   "id": "5ba743c1",
   "metadata": {},
   "outputs": [],
   "source": [
    "import time\n",
    "time.sleep(120)  # dejamos un delay de 2 minutos para que S3 pueda recibir la data"
   ]
  },
  {
   "cell_type": "code",
   "execution_count": null,
   "id": "c1aad0c8",
   "metadata": {},
   "outputs": [],
   "source": [
    "s3_client = boto3.Session().client(\"s3\")\n",
    "current_endpoint_capture_prefix = f\"{prefix}/monitoring/datacapture/{endpoint_name}\"\n",
    "\n",
    "result = s3_client.list_objects(Bucket=bucket_name, Prefix=current_endpoint_capture_prefix)\n",
    "capture_files = [\n",
    "    f\"s3://{bucket_name}/{capture_file.get('Key')}\"\n",
    "    for capture_file in result.get('Contents')\n",
    "]\n",
    "\n",
    "print(\"Capture Files: \")\n",
    "print(\"\\n \".join(capture_files))"
   ]
  },
  {
   "cell_type": "code",
   "execution_count": null,
   "id": "68d83a97",
   "metadata": {},
   "outputs": [],
   "source": [
    "!aws s3 cp {capture_files[0]} datacapture/captured_data_example.jsonl\n",
    "!head datacapture/captured_data_example.jsonl"
   ]
  },
  {
   "cell_type": "code",
   "execution_count": null,
   "id": "9c0311bf",
   "metadata": {},
   "outputs": [],
   "source": [
    "import json\n",
    "with open(\"datacapture/captured_data_example.jsonl\", \"r\") as f:\n",
    "    data = f.read()\n",
    "\n",
    "print(json.dumps(json.loads(data.split(\"\\n\")[0]), indent=2))"
   ]
  }
 ],
 "metadata": {
  "availableInstances": [
   {
    "_defaultOrder": 0,
    "_isFastLaunch": true,
    "category": "General purpose",
    "gpuNum": 0,
    "hideHardwareSpecs": false,
    "memoryGiB": 4,
    "name": "ml.t3.medium",
    "vcpuNum": 2
   },
   {
    "_defaultOrder": 1,
    "_isFastLaunch": false,
    "category": "General purpose",
    "gpuNum": 0,
    "hideHardwareSpecs": false,
    "memoryGiB": 8,
    "name": "ml.t3.large",
    "vcpuNum": 2
   },
   {
    "_defaultOrder": 2,
    "_isFastLaunch": false,
    "category": "General purpose",
    "gpuNum": 0,
    "hideHardwareSpecs": false,
    "memoryGiB": 16,
    "name": "ml.t3.xlarge",
    "vcpuNum": 4
   },
   {
    "_defaultOrder": 3,
    "_isFastLaunch": false,
    "category": "General purpose",
    "gpuNum": 0,
    "hideHardwareSpecs": false,
    "memoryGiB": 32,
    "name": "ml.t3.2xlarge",
    "vcpuNum": 8
   },
   {
    "_defaultOrder": 4,
    "_isFastLaunch": true,
    "category": "General purpose",
    "gpuNum": 0,
    "hideHardwareSpecs": false,
    "memoryGiB": 8,
    "name": "ml.m5.large",
    "vcpuNum": 2
   },
   {
    "_defaultOrder": 5,
    "_isFastLaunch": false,
    "category": "General purpose",
    "gpuNum": 0,
    "hideHardwareSpecs": false,
    "memoryGiB": 16,
    "name": "ml.m5.xlarge",
    "vcpuNum": 4
   },
   {
    "_defaultOrder": 6,
    "_isFastLaunch": false,
    "category": "General purpose",
    "gpuNum": 0,
    "hideHardwareSpecs": false,
    "memoryGiB": 32,
    "name": "ml.m5.2xlarge",
    "vcpuNum": 8
   },
   {
    "_defaultOrder": 7,
    "_isFastLaunch": false,
    "category": "General purpose",
    "gpuNum": 0,
    "hideHardwareSpecs": false,
    "memoryGiB": 64,
    "name": "ml.m5.4xlarge",
    "vcpuNum": 16
   },
   {
    "_defaultOrder": 8,
    "_isFastLaunch": false,
    "category": "General purpose",
    "gpuNum": 0,
    "hideHardwareSpecs": false,
    "memoryGiB": 128,
    "name": "ml.m5.8xlarge",
    "vcpuNum": 32
   },
   {
    "_defaultOrder": 9,
    "_isFastLaunch": false,
    "category": "General purpose",
    "gpuNum": 0,
    "hideHardwareSpecs": false,
    "memoryGiB": 192,
    "name": "ml.m5.12xlarge",
    "vcpuNum": 48
   },
   {
    "_defaultOrder": 10,
    "_isFastLaunch": false,
    "category": "General purpose",
    "gpuNum": 0,
    "hideHardwareSpecs": false,
    "memoryGiB": 256,
    "name": "ml.m5.16xlarge",
    "vcpuNum": 64
   },
   {
    "_defaultOrder": 11,
    "_isFastLaunch": false,
    "category": "General purpose",
    "gpuNum": 0,
    "hideHardwareSpecs": false,
    "memoryGiB": 384,
    "name": "ml.m5.24xlarge",
    "vcpuNum": 96
   },
   {
    "_defaultOrder": 12,
    "_isFastLaunch": false,
    "category": "General purpose",
    "gpuNum": 0,
    "hideHardwareSpecs": false,
    "memoryGiB": 8,
    "name": "ml.m5d.large",
    "vcpuNum": 2
   },
   {
    "_defaultOrder": 13,
    "_isFastLaunch": false,
    "category": "General purpose",
    "gpuNum": 0,
    "hideHardwareSpecs": false,
    "memoryGiB": 16,
    "name": "ml.m5d.xlarge",
    "vcpuNum": 4
   },
   {
    "_defaultOrder": 14,
    "_isFastLaunch": false,
    "category": "General purpose",
    "gpuNum": 0,
    "hideHardwareSpecs": false,
    "memoryGiB": 32,
    "name": "ml.m5d.2xlarge",
    "vcpuNum": 8
   },
   {
    "_defaultOrder": 15,
    "_isFastLaunch": false,
    "category": "General purpose",
    "gpuNum": 0,
    "hideHardwareSpecs": false,
    "memoryGiB": 64,
    "name": "ml.m5d.4xlarge",
    "vcpuNum": 16
   },
   {
    "_defaultOrder": 16,
    "_isFastLaunch": false,
    "category": "General purpose",
    "gpuNum": 0,
    "hideHardwareSpecs": false,
    "memoryGiB": 128,
    "name": "ml.m5d.8xlarge",
    "vcpuNum": 32
   },
   {
    "_defaultOrder": 17,
    "_isFastLaunch": false,
    "category": "General purpose",
    "gpuNum": 0,
    "hideHardwareSpecs": false,
    "memoryGiB": 192,
    "name": "ml.m5d.12xlarge",
    "vcpuNum": 48
   },
   {
    "_defaultOrder": 18,
    "_isFastLaunch": false,
    "category": "General purpose",
    "gpuNum": 0,
    "hideHardwareSpecs": false,
    "memoryGiB": 256,
    "name": "ml.m5d.16xlarge",
    "vcpuNum": 64
   },
   {
    "_defaultOrder": 19,
    "_isFastLaunch": false,
    "category": "General purpose",
    "gpuNum": 0,
    "hideHardwareSpecs": false,
    "memoryGiB": 384,
    "name": "ml.m5d.24xlarge",
    "vcpuNum": 96
   },
   {
    "_defaultOrder": 20,
    "_isFastLaunch": false,
    "category": "General purpose",
    "gpuNum": 0,
    "hideHardwareSpecs": true,
    "memoryGiB": 0,
    "name": "ml.geospatial.interactive",
    "supportedImageNames": [
     "sagemaker-geospatial-v1-0"
    ],
    "vcpuNum": 0
   },
   {
    "_defaultOrder": 21,
    "_isFastLaunch": true,
    "category": "Compute optimized",
    "gpuNum": 0,
    "hideHardwareSpecs": false,
    "memoryGiB": 4,
    "name": "ml.c5.large",
    "vcpuNum": 2
   },
   {
    "_defaultOrder": 22,
    "_isFastLaunch": false,
    "category": "Compute optimized",
    "gpuNum": 0,
    "hideHardwareSpecs": false,
    "memoryGiB": 8,
    "name": "ml.c5.xlarge",
    "vcpuNum": 4
   },
   {
    "_defaultOrder": 23,
    "_isFastLaunch": false,
    "category": "Compute optimized",
    "gpuNum": 0,
    "hideHardwareSpecs": false,
    "memoryGiB": 16,
    "name": "ml.c5.2xlarge",
    "vcpuNum": 8
   },
   {
    "_defaultOrder": 24,
    "_isFastLaunch": false,
    "category": "Compute optimized",
    "gpuNum": 0,
    "hideHardwareSpecs": false,
    "memoryGiB": 32,
    "name": "ml.c5.4xlarge",
    "vcpuNum": 16
   },
   {
    "_defaultOrder": 25,
    "_isFastLaunch": false,
    "category": "Compute optimized",
    "gpuNum": 0,
    "hideHardwareSpecs": false,
    "memoryGiB": 72,
    "name": "ml.c5.9xlarge",
    "vcpuNum": 36
   },
   {
    "_defaultOrder": 26,
    "_isFastLaunch": false,
    "category": "Compute optimized",
    "gpuNum": 0,
    "hideHardwareSpecs": false,
    "memoryGiB": 96,
    "name": "ml.c5.12xlarge",
    "vcpuNum": 48
   },
   {
    "_defaultOrder": 27,
    "_isFastLaunch": false,
    "category": "Compute optimized",
    "gpuNum": 0,
    "hideHardwareSpecs": false,
    "memoryGiB": 144,
    "name": "ml.c5.18xlarge",
    "vcpuNum": 72
   },
   {
    "_defaultOrder": 28,
    "_isFastLaunch": false,
    "category": "Compute optimized",
    "gpuNum": 0,
    "hideHardwareSpecs": false,
    "memoryGiB": 192,
    "name": "ml.c5.24xlarge",
    "vcpuNum": 96
   },
   {
    "_defaultOrder": 29,
    "_isFastLaunch": true,
    "category": "Accelerated computing",
    "gpuNum": 1,
    "hideHardwareSpecs": false,
    "memoryGiB": 16,
    "name": "ml.g4dn.xlarge",
    "vcpuNum": 4
   },
   {
    "_defaultOrder": 30,
    "_isFastLaunch": false,
    "category": "Accelerated computing",
    "gpuNum": 1,
    "hideHardwareSpecs": false,
    "memoryGiB": 32,
    "name": "ml.g4dn.2xlarge",
    "vcpuNum": 8
   },
   {
    "_defaultOrder": 31,
    "_isFastLaunch": false,
    "category": "Accelerated computing",
    "gpuNum": 1,
    "hideHardwareSpecs": false,
    "memoryGiB": 64,
    "name": "ml.g4dn.4xlarge",
    "vcpuNum": 16
   },
   {
    "_defaultOrder": 32,
    "_isFastLaunch": false,
    "category": "Accelerated computing",
    "gpuNum": 1,
    "hideHardwareSpecs": false,
    "memoryGiB": 128,
    "name": "ml.g4dn.8xlarge",
    "vcpuNum": 32
   },
   {
    "_defaultOrder": 33,
    "_isFastLaunch": false,
    "category": "Accelerated computing",
    "gpuNum": 4,
    "hideHardwareSpecs": false,
    "memoryGiB": 192,
    "name": "ml.g4dn.12xlarge",
    "vcpuNum": 48
   },
   {
    "_defaultOrder": 34,
    "_isFastLaunch": false,
    "category": "Accelerated computing",
    "gpuNum": 1,
    "hideHardwareSpecs": false,
    "memoryGiB": 256,
    "name": "ml.g4dn.16xlarge",
    "vcpuNum": 64
   },
   {
    "_defaultOrder": 35,
    "_isFastLaunch": false,
    "category": "Accelerated computing",
    "gpuNum": 1,
    "hideHardwareSpecs": false,
    "memoryGiB": 61,
    "name": "ml.p3.2xlarge",
    "vcpuNum": 8
   },
   {
    "_defaultOrder": 36,
    "_isFastLaunch": false,
    "category": "Accelerated computing",
    "gpuNum": 4,
    "hideHardwareSpecs": false,
    "memoryGiB": 244,
    "name": "ml.p3.8xlarge",
    "vcpuNum": 32
   },
   {
    "_defaultOrder": 37,
    "_isFastLaunch": false,
    "category": "Accelerated computing",
    "gpuNum": 8,
    "hideHardwareSpecs": false,
    "memoryGiB": 488,
    "name": "ml.p3.16xlarge",
    "vcpuNum": 64
   },
   {
    "_defaultOrder": 38,
    "_isFastLaunch": false,
    "category": "Accelerated computing",
    "gpuNum": 8,
    "hideHardwareSpecs": false,
    "memoryGiB": 768,
    "name": "ml.p3dn.24xlarge",
    "vcpuNum": 96
   },
   {
    "_defaultOrder": 39,
    "_isFastLaunch": false,
    "category": "Memory Optimized",
    "gpuNum": 0,
    "hideHardwareSpecs": false,
    "memoryGiB": 16,
    "name": "ml.r5.large",
    "vcpuNum": 2
   },
   {
    "_defaultOrder": 40,
    "_isFastLaunch": false,
    "category": "Memory Optimized",
    "gpuNum": 0,
    "hideHardwareSpecs": false,
    "memoryGiB": 32,
    "name": "ml.r5.xlarge",
    "vcpuNum": 4
   },
   {
    "_defaultOrder": 41,
    "_isFastLaunch": false,
    "category": "Memory Optimized",
    "gpuNum": 0,
    "hideHardwareSpecs": false,
    "memoryGiB": 64,
    "name": "ml.r5.2xlarge",
    "vcpuNum": 8
   },
   {
    "_defaultOrder": 42,
    "_isFastLaunch": false,
    "category": "Memory Optimized",
    "gpuNum": 0,
    "hideHardwareSpecs": false,
    "memoryGiB": 128,
    "name": "ml.r5.4xlarge",
    "vcpuNum": 16
   },
   {
    "_defaultOrder": 43,
    "_isFastLaunch": false,
    "category": "Memory Optimized",
    "gpuNum": 0,
    "hideHardwareSpecs": false,
    "memoryGiB": 256,
    "name": "ml.r5.8xlarge",
    "vcpuNum": 32
   },
   {
    "_defaultOrder": 44,
    "_isFastLaunch": false,
    "category": "Memory Optimized",
    "gpuNum": 0,
    "hideHardwareSpecs": false,
    "memoryGiB": 384,
    "name": "ml.r5.12xlarge",
    "vcpuNum": 48
   },
   {
    "_defaultOrder": 45,
    "_isFastLaunch": false,
    "category": "Memory Optimized",
    "gpuNum": 0,
    "hideHardwareSpecs": false,
    "memoryGiB": 512,
    "name": "ml.r5.16xlarge",
    "vcpuNum": 64
   },
   {
    "_defaultOrder": 46,
    "_isFastLaunch": false,
    "category": "Memory Optimized",
    "gpuNum": 0,
    "hideHardwareSpecs": false,
    "memoryGiB": 768,
    "name": "ml.r5.24xlarge",
    "vcpuNum": 96
   },
   {
    "_defaultOrder": 47,
    "_isFastLaunch": false,
    "category": "Accelerated computing",
    "gpuNum": 1,
    "hideHardwareSpecs": false,
    "memoryGiB": 16,
    "name": "ml.g5.xlarge",
    "vcpuNum": 4
   },
   {
    "_defaultOrder": 48,
    "_isFastLaunch": false,
    "category": "Accelerated computing",
    "gpuNum": 1,
    "hideHardwareSpecs": false,
    "memoryGiB": 32,
    "name": "ml.g5.2xlarge",
    "vcpuNum": 8
   },
   {
    "_defaultOrder": 49,
    "_isFastLaunch": false,
    "category": "Accelerated computing",
    "gpuNum": 1,
    "hideHardwareSpecs": false,
    "memoryGiB": 64,
    "name": "ml.g5.4xlarge",
    "vcpuNum": 16
   },
   {
    "_defaultOrder": 50,
    "_isFastLaunch": false,
    "category": "Accelerated computing",
    "gpuNum": 1,
    "hideHardwareSpecs": false,
    "memoryGiB": 128,
    "name": "ml.g5.8xlarge",
    "vcpuNum": 32
   },
   {
    "_defaultOrder": 51,
    "_isFastLaunch": false,
    "category": "Accelerated computing",
    "gpuNum": 1,
    "hideHardwareSpecs": false,
    "memoryGiB": 256,
    "name": "ml.g5.16xlarge",
    "vcpuNum": 64
   },
   {
    "_defaultOrder": 52,
    "_isFastLaunch": false,
    "category": "Accelerated computing",
    "gpuNum": 4,
    "hideHardwareSpecs": false,
    "memoryGiB": 192,
    "name": "ml.g5.12xlarge",
    "vcpuNum": 48
   },
   {
    "_defaultOrder": 53,
    "_isFastLaunch": false,
    "category": "Accelerated computing",
    "gpuNum": 4,
    "hideHardwareSpecs": false,
    "memoryGiB": 384,
    "name": "ml.g5.24xlarge",
    "vcpuNum": 96
   },
   {
    "_defaultOrder": 54,
    "_isFastLaunch": false,
    "category": "Accelerated computing",
    "gpuNum": 8,
    "hideHardwareSpecs": false,
    "memoryGiB": 768,
    "name": "ml.g5.48xlarge",
    "vcpuNum": 192
   },
   {
    "_defaultOrder": 55,
    "_isFastLaunch": false,
    "category": "Accelerated computing",
    "gpuNum": 8,
    "hideHardwareSpecs": false,
    "memoryGiB": 1152,
    "name": "ml.p4d.24xlarge",
    "vcpuNum": 96
   },
   {
    "_defaultOrder": 56,
    "_isFastLaunch": false,
    "category": "Accelerated computing",
    "gpuNum": 8,
    "hideHardwareSpecs": false,
    "memoryGiB": 1152,
    "name": "ml.p4de.24xlarge",
    "vcpuNum": 96
   },
   {
    "_defaultOrder": 57,
    "_isFastLaunch": false,
    "category": "Accelerated computing",
    "gpuNum": 0,
    "hideHardwareSpecs": false,
    "memoryGiB": 32,
    "name": "ml.trn1.2xlarge",
    "vcpuNum": 8
   },
   {
    "_defaultOrder": 58,
    "_isFastLaunch": false,
    "category": "Accelerated computing",
    "gpuNum": 0,
    "hideHardwareSpecs": false,
    "memoryGiB": 512,
    "name": "ml.trn1.32xlarge",
    "vcpuNum": 128
   },
   {
    "_defaultOrder": 59,
    "_isFastLaunch": false,
    "category": "Accelerated computing",
    "gpuNum": 0,
    "hideHardwareSpecs": false,
    "memoryGiB": 512,
    "name": "ml.trn1n.32xlarge",
    "vcpuNum": 128
   }
  ],
  "instance_type": "ml.t3.medium",
  "kernelspec": {
   "display_name": "sage.venv",
   "language": "python",
   "name": "python3"
  },
  "language_info": {
   "codemirror_mode": {
    "name": "ipython",
    "version": 3
   },
   "file_extension": ".py",
   "mimetype": "text/x-python",
   "name": "python",
   "nbconvert_exporter": "python",
   "pygments_lexer": "ipython3",
   "version": "3.10.12"
  }
 },
 "nbformat": 4,
 "nbformat_minor": 5
}
